{
 "cells": [
  {
   "cell_type": "code",
   "execution_count": 2,
   "id": "7575a7ef",
   "metadata": {},
   "outputs": [],
   "source": [
    "import requests\n",
    "\n",
    "url_base = \"http://localhost:8000\""
   ]
  },
  {
   "cell_type": "code",
   "execution_count": 3,
   "id": "7a58c2ec",
   "metadata": {},
   "outputs": [
    {
     "name": "stdout",
     "output_type": "stream",
     "text": [
      "{'message': 'LLM as Judge Study API', 'version': '0.1.0', 'endpoints': {'compare': '/api/v1/compare', 'models': '/api/v1/models', 'health': '/api/v1/health', 'docs': '/docs'}}\n"
     ]
    }
   ],
   "source": [
    "enpoint = \"/\"\n",
    "\n",
    "response = requests.get(url_base + enpoint)\n",
    "print(response.json())"
   ]
  },
  {
   "cell_type": "code",
   "execution_count": 7,
   "id": "99265519",
   "metadata": {},
   "outputs": [
    {
     "name": "stdout",
     "output_type": "stream",
     "text": [
      "{'prompt': 'Amigos', 'model_1': 'claude-4-sonnet', 'model_2': 'google-gemini-2.5-pro', 'status': 'comparison_pending', 'message': 'LLM comparison endpoint - implementation pending'}\n"
     ]
    }
   ],
   "source": [
    "enpoint = \"/api/v1/compare\"\n",
    "\n",
    "data = {\n",
    "    \"prompt\": \"Amigos\",\n",
    "}\n",
    "\n",
    "response = requests.post(url_base + enpoint, json=data, timeout=10)\n",
    "print(response.json())"
   ]
  },
  {
   "cell_type": "code",
   "execution_count": null,
   "id": "661456a7",
   "metadata": {},
   "outputs": [
    {
     "name": "stdout",
     "output_type": "stream",
     "text": [
      "{'available_models': ['claude-4-sonnet', 'google-gemini-2.5-pro'], 'total_count': 2}\n"
     ]
    }
   ],
   "source": [
    "enpoint = \"/api/v1/models\"\n",
    "\n",
    "response = requests.get(url_base + enpoint, timeout=10)\n",
    "print(response.json())"
   ]
  },
  {
   "cell_type": "code",
   "execution_count": 9,
   "id": "f28c63f9",
   "metadata": {},
   "outputs": [
    {
     "name": "stdout",
     "output_type": "stream",
     "text": [
      "{'status': 'healthy', 'timestamp': '2025-08-10T19:50:25.937089', 'service': 'LLM as Judge Study API', 'version': '0.1.0'}\n"
     ]
    }
   ],
   "source": [
    "enpoint = \"/api/v1/health\"\n",
    "\n",
    "response = requests.get(url_base + enpoint, timeout=10)\n",
    "print(response.json())"
   ]
  },
  {
   "cell_type": "code",
   "execution_count": 10,
   "id": "a833ae99",
   "metadata": {},
   "outputs": [
    {
     "name": "stdout",
     "output_type": "stream",
     "text": [
      "{'detail': 'Not Found'}\n"
     ]
    }
   ],
   "source": [
    "enpoint = \"/api/v1/docs\"\n",
    "\n",
    "response = requests.get(url_base + enpoint, timeout=10)\n",
    "print(response.json())"
   ]
  }
 ],
 "metadata": {
  "kernelspec": {
   "display_name": ".venv",
   "language": "python",
   "name": "python3"
  },
  "language_info": {
   "codemirror_mode": {
    "name": "ipython",
    "version": 3
   },
   "file_extension": ".py",
   "mimetype": "text/x-python",
   "name": "python",
   "nbconvert_exporter": "python",
   "pygments_lexer": "ipython3",
   "version": "3.13.1"
  }
 },
 "nbformat": 4,
 "nbformat_minor": 5
}
