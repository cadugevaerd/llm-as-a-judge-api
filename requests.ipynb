{
 "cells": [
  {
   "cell_type": "code",
   "execution_count": 4,
   "id": "7575a7ef",
   "metadata": {},
   "outputs": [],
   "source": [
    "import requests\n",
    "import json\n",
    "\n",
    "url_base = \"http://localhost:8000\""
   ]
  },
  {
   "cell_type": "code",
   "execution_count": 6,
   "id": "7a58c2ec",
   "metadata": {},
   "outputs": [
    {
     "name": "stdout",
     "output_type": "stream",
     "text": [
      "{'message': 'LLM as Judge Study API', 'version': '0.1.0', 'endpoints': {'compare': '/api/v1/compare', 'models': '/api/v1/models', 'health': '/api/v1/health', 'docs': '/docs'}}\n"
     ]
    }
   ],
   "source": [
    "enpoint = \"/\"\n",
    "\n",
    "response = requests.get(url_base + enpoint)\n",
    "print(response.json())"
   ]
  },
  {
   "cell_type": "code",
   "execution_count": 8,
   "id": "99265519",
   "metadata": {},
   "outputs": [
    {
     "name": "stdout",
     "output_type": "stream",
     "text": [
      "{'input': 'Qual a capital do Brasil?', 'response_a': 'A capital do Brasil é Brasília, localizada no Distrito Federal.', 'response_b': 'Brasília é a capital do Brasil desde 1960.', 'better_response': 'A', 'judge_reasoning': None, 'model_a_name': None, 'model_b_name': None, 'timestamp': '2025-08-24T17:42:05.033142Z', 'execution_time': 2.11043643951416}\n"
     ]
    }
   ],
   "source": [
    "enpoint = \"/api/v1/compare\"\n",
    "\n",
    "data = {\n",
    "    \"input\": \"Qual a capital do Brasil?\",\n",
    "    \"response_a\": \"A capital do Brasil é Brasília, localizada no Distrito Federal.\",\n",
    "    \"response_b\": \"Brasília é a capital do Brasil desde 1960.\"\n",
    "}\n",
    "\n",
    "\n",
    "\n",
    "response = requests.post(url_base + enpoint, json=data, timeout=10)\n",
    "print(response.json())"
   ]
  },
  {
   "cell_type": "code",
   "execution_count": 9,
   "id": "661456a7",
   "metadata": {},
   "outputs": [
    {
     "name": "stdout",
     "output_type": "stream",
     "text": [
      "{'available_models': ['llama-4-maverick', 'claude-4-sonnet', 'google-gemini-2.5-pro'], 'total_count': 3}\n"
     ]
    }
   ],
   "source": [
    "enpoint = \"/api/v1/models\"\n",
    "\n",
    "response = requests.get(url_base + enpoint, timeout=10)\n",
    "print(response.json())"
   ]
  },
  {
   "cell_type": "code",
   "execution_count": 10,
   "id": "f28c63f9",
   "metadata": {},
   "outputs": [
    {
     "name": "stdout",
     "output_type": "stream",
     "text": [
      "{'status': 'healthy', 'timestamp': '2025-08-24T14:43:19.255933', 'service': 'LLM as Judge Study API', 'version': '0.1.0'}\n"
     ]
    }
   ],
   "source": [
    "enpoint = \"/api/v1/health\"\n",
    "\n",
    "response = requests.get(url_base + enpoint, timeout=10)\n",
    "print(response.json())"
   ]
  },
  {
   "cell_type": "code",
   "execution_count": null,
   "id": "a833ae99",
   "metadata": {},
   "outputs": [],
   "source": "print(\"=== TESTE 1: Request válido (2 comparações) ===\")\nresponse = requests.post(url_base + endpoint, json=data_valid, timeout=30)\nprint(\"Status:\", response.status_code)\nresponse_data = response.json()\nprint(\"Response:\", json.dumps(response_data, indent=2, ensure_ascii=False))\n\n# Destacar estatísticas de performance\nif response.status_code == 200 and 'model_a_wins' in response_data:\n    print(\"\\n🏆 === ESTATÍSTICAS DE PERFORMANCE ===\")\n    print(f\"📊 Modelo A (vitórias): {response_data['model_a_wins']}\")\n    print(f\"📊 Modelo B (vitórias): {response_data['model_b_wins']}\")\n    print(f\"📊 Empates: {response_data['ties']}\")\n    print(f\"📊 Erros: {response_data['errors']}\")\n    print(f\"🥇 Melhor modelo geral: {response_data['best_model']}\")\n    print(f\"⏱️ Tempo de execução: {response_data['execution_time']:.2f}s\")\n\n# print(\"\\\\n=== TESTE 2: Request inválido (6 comparações - limite é 5) ===\")\n# response = requests.post(url_base + endpoint, json=data_invalid, timeout=30)\n# print(\"Status:\", response.status_code)\n# print(\"Response:\", json.dumps(response.json(), indent=2))\n\n# print(\"\\\\n=== TESTE 3: Lista vazia (deve dar erro - mínimo 1) ===\")\n# response = requests.post(url_base + endpoint, json=data_empty, timeout=30)\n# print(\"Status:\", response.status_code)\n# print(\"Response:\", json.dumps(response.json(), indent=2))\n\n# print(\"\\\\n=== TESTE 4: Sem payload (deve dar erro - campo obrigatório) ===\")\n# response = requests.post(url_base + endpoint, json=data_no_payload, timeout=30)\n# print(\"Status:\", response.status_code)\n# print(\"Response:\", json.dumps(response.json(), indent=2))\n\n# print(\"\\\\n=== TESTE 5: Sem JSON (deve dar erro - body vazio) ===\")\n# response = requests.post(url_base + endpoint, timeout=30)\n# print(\"Status:\", response.status_code)\n# print(\"Response:\", json.dumps(response.json(), indent=2))"
  }
 ],
 "metadata": {
  "kernelspec": {
   "display_name": ".venv",
   "language": "python",
   "name": "python3"
  },
  "language_info": {
   "codemirror_mode": {
    "name": "ipython",
    "version": 3
   },
   "file_extension": ".py",
   "mimetype": "text/x-python",
   "name": "python",
   "nbconvert_exporter": "python",
   "pygments_lexer": "ipython3",
   "version": "3.13.1"
  }
 },
 "nbformat": 4,
 "nbformat_minor": 5
}